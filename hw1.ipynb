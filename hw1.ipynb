{
 "cells": [
  {
   "cell_type": "markdown",
   "metadata": {
    "id": "UKc8K9_57UEz"
   },
   "source": [
    "# CS224 - Spring 2024 - HW1 - Joy-o-Meter\n",
    "\n",
    "Submit **PDF** of completed IPython notebook on Canvas\n",
    "\n",
    "**Due**: February 1, 2024 @ 11:59pm PDT\n",
    "\n",
    "**Maximum points**: 15 (each HW is %15 of total grade)\n"
   ]
  },
  {
   "cell_type": "markdown",
   "metadata": {
    "id": "JL5tIX4c9z6s"
   },
   "source": [
    "<div style=\"margin-bottom: 15px; padding: 15px; color: #31708f; background-color: #d9edf7; border: 1px solid #bce8f1; border-radius: 5px;\">\n",
    "    \n",
    "<b><font size=+2>Enter your information below:</font></b></br></br>\n",
    "\n",
    "<b>(full) Name</b>: Scott Vo </br> <b>Student ID Number</b>: 862169822\n",
    "</br></br>\n",
    "\n",
    "<b>By submitting this notebook, I assert that the work below is my own work,\n",
    "completed for this course. Except where explicitly cited, none of the portions\n",
    "of this notebook are duplicated from anyone else's work or my own previous\n",
    "work.</b>\n",
    "\n",
    "</div>\n"
   ]
  },
  {
   "cell_type": "markdown",
   "metadata": {
    "id": "hsywQWEI8pzj"
   },
   "source": [
    "# Overview\n",
    "\n",
    "In this assignment you will implement a simple linear neural network that reads\n",
    "in text and uses pretrained embeddings to predict the **happiness intensity** of\n",
    "the text. You'll fit the network weights using the analytic expression we\n",
    "discussed in class.\n",
    "\n",
    "For this assignment we will use the functionality of PyTorch, HuggingFace\n",
    "\"transformers\" library for getting pretrained models, \"pandas\" for data loading,\n",
    "matplotlib for visualization. Before you start, make sure you have installed all\n",
    "those packages in your local Jupyter instance. Or use Google Colab (which has\n",
    "everything you need pre-installed).\n",
    "\n",
    "Read **all** cells carefully and answer **all** parts (both text and missing\n",
    "code). You will complete all the code marked `TODO` and print desired results.\n"
   ]
  },
  {
   "cell_type": "code",
   "execution_count": 1,
   "metadata": {
    "id": "NM7-Cx4H-jTt"
   },
   "outputs": [
    {
     "name": "stderr",
     "output_type": "stream",
     "text": [
      "/Users/scott/GitHub/CS224/.venv/lib/python3.11/site-packages/tqdm/auto.py:21: TqdmWarning: IProgress not found. Please update jupyter and ipywidgets. See https://ipywidgets.readthedocs.io/en/stable/user_install.html\n",
      "  from .autonotebook import tqdm as notebook_tqdm\n"
     ]
    }
   ],
   "source": [
    "import torch\n",
    "from transformers import AutoModel, AutoTokenizer, AutoModelForMaskedLM\n",
    "import pandas as pd\n",
    "import matplotlib.pyplot as plt\n",
    "%matplotlib inline"
   ]
  },
  {
   "cell_type": "markdown",
   "metadata": {
    "id": "VR37r18FtEPo"
   },
   "source": [
    "## **Getting and processing data [2 points]**\n",
    "\n",
    "You can download the two data files here:\n",
    "https://elearn.ucr.edu/files/11510987/download?download_frd=1\n",
    "https://elearn.ucr.edu/files/11510996/download?download_frd=1 You'll have to\n",
    "make them available locally or upload them to your colab instance.\n"
   ]
  },
  {
   "cell_type": "code",
   "execution_count": 2,
   "metadata": {
    "id": "p2-zIA5vYOHA",
    "outputId": "67ff9dcb-75aa-437f-cc44-2f86a2d03429"
   },
   "outputs": [
    {
     "name": "stdout",
     "output_type": "stream",
     "text": [
      "Score - Tweet\n",
      "0.14 - @david_garrett Quite saddened.....no US dates, no joyous anticipation of attending a DG concert (since 2014). Happy you are keeping busy.\n",
      "0.79 - 2 days until #GoPackGo and 23 days until #GoGipeGo..... I'm so excited! \n",
      "0.27 - Positive #psychology research shows salespeople who score in the top 10% for #optimism have 88% &gt; sales than those in top 10% for pessimism.\n",
      "0.48 - As the birds chirp and the cows moo we need to listen to the sound of nature to ensure that all is well.\n",
      "0.94 - Howling with laughter at “WELL DONE BEZZA!” #bakeoff #GBBO\n"
     ]
    }
   ],
   "source": [
    "# Load dataset and visualize\n",
    "train_file = \"EI-reg-En-joy-train.txt\"\n",
    "val_file = \"2018-EI-reg-En-joy-dev.txt\"\n",
    "df_train = pd.read_csv(train_file, sep=\"\\t\")\n",
    "df_val = pd.read_csv(val_file, sep=\"\\t\")\n",
    "\n",
    "tweets_train = df_train[\"Tweet\"].tolist()  # Create a list of tweets\n",
    "tweets_val = df_val[\"Tweet\"].tolist()\n",
    "\n",
    "# Create a list of intensity scores\n",
    "y_train = torch.tensor(\n",
    "    df_train[\"Intensity Score\"], dtype=torch.float32\n",
    ")  # match to dtype of embedding\n",
    "y_val = torch.tensor(df_val[\"Intensity Score\"], dtype=torch.float32)\n",
    "\n",
    "print(\"Score - Tweet\")\n",
    "for i in range(5):\n",
    "    print(\"{:0.2f} - {}\".format(y_train[i], tweets_train[i]))"
   ]
  },
  {
   "cell_type": "code",
   "execution_count": 32,
   "metadata": {},
   "outputs": [
    {
     "data": {
      "text/plain": [
       "((1616, 4), (290, 4))"
      ]
     },
     "execution_count": 32,
     "metadata": {},
     "output_type": "execute_result"
    }
   ],
   "source": [
    "df_train.shape, df_val.shape"
   ]
  },
  {
   "cell_type": "code",
   "execution_count": 24,
   "metadata": {
    "id": "9E5yknPYT6OL"
   },
   "outputs": [],
   "source": [
    "# TODO [1 point]: load a pretrained model and write a function that embeds sentences into vector space\n",
    "# Use the approach shown in Jan. 19 class (or improve on it)\n",
    "\n",
    "model_name = \"bert-base-uncased\"  # Many possibilities on huggingface.com\n",
    "tokenizer = AutoTokenizer.from_pretrained(model_name)\n",
    "# model = AutoModelForMaskedLM.from_pretrained(model_name)\n",
    "model = AutoModel.from_pretrained(model_name)\n",
    "\n",
    "\n",
    "def embed_sentence(model, tokenizer, sentence):\n",
    "    \"\"\"Function to embed a sentence as a vector using a pre-trained model.\"\"\"\n",
    "    encode = tokenizer(sentence, return_tensors=\"pt\")\n",
    "    return model(**encode).pooler_output"
   ]
  },
  {
   "cell_type": "code",
   "execution_count": 27,
   "metadata": {},
   "outputs": [
    {
     "data": {
      "text/plain": [
       "torch.Size([1, 768])"
      ]
     },
     "execution_count": 27,
     "metadata": {},
     "output_type": "execute_result"
    }
   ],
   "source": [
    "embedding = embed_sentence(model, tokenizer, tweets_train[0])\n",
    "type(embedding)\n",
    "# embedding.pooler_output.shape\n",
    "embedding.shape"
   ]
  },
  {
   "cell_type": "code",
   "execution_count": 30,
   "metadata": {},
   "outputs": [
    {
     "data": {
      "text/plain": [
       "torch.Size([1616, 768])"
      ]
     },
     "execution_count": 30,
     "metadata": {},
     "output_type": "execute_result"
    }
   ],
   "source": [
    "# torch.cat(([embed_sentence(model, tokenizer, i) for i in tweets_train])).shape"
   ]
  },
  {
   "cell_type": "code",
   "execution_count": 31,
   "metadata": {
    "id": "roqBNu3FT6OL",
    "outputId": "ce716ba0-afe7-4ca6-cd66-7f747950d0d1"
   },
   "outputs": [
    {
     "name": "stdout",
     "output_type": "stream",
     "text": [
      "torch.Size([1616, 768]) torch.Size([290, 768])\n"
     ]
    }
   ],
   "source": [
    "# TODO [1 point]: Use embed_sentence to turn text into a matrix of embeddings.\n",
    "# Create a pytorch matrix where each row corresponds to a tweet,\n",
    "# and the number of columns/features is the size of the embedding\n",
    "# (Obviously one for train and one for validation)\n",
    "# For me, on the CPU of my laptop, it took about a minute or two to do the processing\n",
    "\n",
    "# X_train = torch.randn((len(y_train), 768))  # Delete and replace placeholder\n",
    "X_train = torch.cat(\n",
    "    ([embed_sentence(model, tokenizer, tweet) for tweet in tweets_train])\n",
    ")\n",
    "# X_val = torch.randn((len(y_val), 768))  # Delete and replace placeholder\n",
    "X_val = torch.cat(([embed_sentence(model, tokenizer, tweet) for tweet in tweets_val]))\n",
    "\n",
    "print(X_train.shape, X_val.shape)"
   ]
  },
  {
   "cell_type": "markdown",
   "metadata": {
    "id": "LRxPXQ1KT6OL"
   },
   "source": [
    "## Define the model [5 points]\n"
   ]
  },
  {
   "cell_type": "code",
   "execution_count": null,
   "metadata": {
    "id": "265qk4h2YUrc"
   },
   "outputs": [],
   "source": [
    "class MyLinearNet(torch.nn.Module):\n",
    "    def __init__(self, embedding_size):\n",
    "        super().__init__()  # init superclass - enables many pytorch model capabilities\n",
    "        self.d = embedding_size  # Often convenient to store this (not a \"Parameter\" though as we don't train it)\n",
    "        # TODO [1 point]: define weights and bias parameters\n",
    "\n",
    "    def forward(self, x):\n",
    "        \"\"\"Implement a linear model\"\"\"\n",
    "        # TODO [1 point]: implement linear model, in terms of weights and biases\n",
    "        # It should work on a single x, or a batch\n",
    "        y_hat = torch.ones(\n",
    "            len(x)\n",
    "        )  # This gives a constant prediction - delete when you implement your method\n",
    "        return y_hat\n",
    "\n",
    "    def fit(self, X, y):\n",
    "        \"\"\"Given a data matrix, X, and a vector of labels for each row, y,\n",
    "        analytically fit the parameters of the linear model.\"\"\"\n",
    "        # TODO [3 points]: Use linear regression formula to set weight and bias parameters\n",
    "\n",
    "        # (a) First, construct the augmented data matrix as discussed in class\n",
    "\n",
    "        # (b) Next, use matrix multiplication and torch.linalg.inv to implement the analytic solution\n",
    "        w = torch.randn(self.d + 1)  # delete and replace\n",
    "\n",
    "        # (c) Put the solution (which includes weights and biases) into parameter\n",
    "        # Use \"data\" to update parameters without affecting computation graph\n",
    "        # (Kind of a subtle point - no need to modify my code below)\n",
    "        # self.w.data = w[:self.d]\n",
    "        # self.b.data = w[-1]"
   ]
  },
  {
   "cell_type": "markdown",
   "metadata": {
    "id": "aQhiQjNjT6OM"
   },
   "source": [
    "## Results [8 points]\n"
   ]
  },
  {
   "cell_type": "code",
   "execution_count": null,
   "metadata": {
    "id": "MXtUFymP9M0P",
    "outputId": "00e2957a-599c-440b-eecd-9f479997efe4"
   },
   "outputs": [
    {
     "name": "stdout",
     "output_type": "stream",
     "text": [
      "\n",
      "Loss on train and validation BEFORE fitting.\n",
      "Train: 0.295, Val: 0.281\n",
      "\n",
      "Loss on train and validation AFTER fitting.\n",
      "Train: 0.295, Val: 0.281\n"
     ]
    }
   ],
   "source": [
    "def loss(model, X, y):\n",
    "    # TODO [1 point]: implement the mean square error loss\n",
    "\n",
    "d = X_train.shape[1]  # embedding dimension\n",
    "model = MyLinearNet(d)\n",
    "\n",
    "loss_train = loss(model, X_train, y_train)\n",
    "loss_val = loss(model, X_val, y_val)\n",
    "print(\"\\nLoss on train and validation BEFORE fitting.\\nTrain: {:0.3f}, Val: {:0.3f}\".format(loss_train, loss_val))\n",
    "\n",
    "model.fit(X_train, y_train)\n",
    "\n",
    "loss_train = loss(model, X_train, y_train)\n",
    "loss_val = loss(model, X_val, y_val)\n",
    "\n",
    "# TODO [5 points]: Show that Train loss is reduced below 0.02\n",
    "# and Validation loss is reduced below 0.05, at least\n",
    "\n",
    "print(\"\\nLoss on train and validation AFTER fitting.\\nTrain: {:0.3f}, Val: {:0.3f}\".format(loss_train, loss_val))\n"
   ]
  },
  {
   "cell_type": "code",
   "execution_count": null,
   "metadata": {
    "id": "-r__jPyk-Em-",
    "outputId": "f659f626-123e-4a35-f8e0-ffe4e56faec3"
   },
   "outputs": [
    {
     "data": {
      "image/png": "[encoded data removed]",
      "text/plain": [
       "<Figure size 640x480 with 1 Axes>"
      ]
     },
     "metadata": {},
     "output_type": "display_data"
    }
   ],
   "source": [
    "# Create a scatter plot of the actual vs. predicted values of `y` using this function.\n",
    "def plot(y_train, y_hat_train, y_val, y_hat_val):\n",
    "    fig, ax = plt.subplots(1)\n",
    "    ax.scatter(y_train, y_hat_train, alpha=0.4, label=\"train\")\n",
    "    ax.scatter(y_val, y_hat_val, label=\"val\")\n",
    "    ax.set_xlabel(\"y - ground truth joy intensity\")\n",
    "    ax.set_ylabel(\"Predicted y\")\n",
    "    ax.legend()\n",
    "\n",
    "\n",
    "# TODO [1 point] show y_hat versus y on train and val data\n",
    "# Should be no need to modify code, you get 1 point for getting\n",
    "# something that looks correct.\n",
    "with torch.no_grad():  # remember to turn off auto gradient tracking\n",
    "    y_hat_train = model(X_train)\n",
    "    y_hat_val = model(X_val)\n",
    "\n",
    "plot(y_train, y_hat_train, y_val, y_hat_val)"
   ]
  },
  {
   "cell_type": "code",
   "execution_count": null,
   "metadata": {
    "id": "mUKr8Dx2-UxU",
    "outputId": "cafc5c15-7d84-4bdc-9b66-67151038e86b"
   },
   "outputs": [
    {
     "name": "stdout",
     "output_type": "stream",
     "text": [
      "0.60 - I am never happier than when I'm doing homework :) LOL\n",
      "0.10 - I am so tired of homework right now\n"
     ]
    }
   ],
   "source": [
    "# TODO [1 point]  Put in a sample sentence of your own construction and output the \"joy meter\" for a happy and sad sentence\n",
    "happy = \"I am never happier than when I'm doing homework :) LOL\"\n",
    "sad = \"I am so tired of homework right now\"\n",
    "\n",
    "y_hat_happy = 0.6  # Delete and replace\n",
    "y_hat_sad = 0.1  # Delete and replace\n",
    "\n",
    "print(\"{:0.2f} - {}\".format(y_hat_happy, happy))\n",
    "print(\"{:0.2f} - {}\".format(y_hat_sad, sad))"
   ]
  },
  {
   "cell_type": "markdown",
   "metadata": {
    "id": "ZrXXaX07T6ON"
   },
   "source": [
    "## Extra credit\n",
    "\n",
    "There are some nice opportunities for extra credit, though I will be fairly\n",
    "stingy with the points, so you should only try it if you're interested in\n",
    "learning more. Some examples of things you could try for 1 extra point.\n",
    "\n",
    "- Compare multiple embedding methods. For instance, I'd look at a contrastive\n",
    "  method like princeton-nlp/unsup-simcse-bert-base-uncased or\n",
    "  sentence-transformers/all-mpnet-base-v2 and a CLIP variant (trained on text\n",
    "  and images). I hypothesize the contrastive methods will be better than CLIP\n",
    "  for this task (which is not a visual task). You could also try a GPT model\n",
    "  embedding, but while they are great at generation the embeddings are typically\n",
    "  not useful for other tasks.\n",
    "- Work ahead and try putting in a multi-layer MLP and training with SGD. How\n",
    "  much can you improve the validation loss?\n",
    "- Compare different strategies for extracting BERT embeddings: instead of using\n",
    "  the mean embedding like I showed in class, compare to the embedding from the\n",
    "  first token (to make this work better, people sometimes prepend the sentence\n",
    "  with a special [cls] token before tokenizing).\n"
   ]
  }
 ],
 "metadata": {
  "colab": {
   "provenance": []
  },
  "kernelspec": {
   "display_name": "Python 3 (ipykernel)",
   "language": "python",
   "name": "python3"
  },
  "language_info": {
   "codemirror_mode": {
    "name": "ipython",
    "version": 3
   },
   "file_extension": ".py",
   "mimetype": "text/x-python",
   "name": "python",
   "nbconvert_exporter": "python",
   "pygments_lexer": "ipython3",
   "version": "3.11.6"
  }
 },
 "nbformat": 4,
 "nbformat_minor": 1
}
